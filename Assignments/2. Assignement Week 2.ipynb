{
  "cells": [
    {
      "cell_type": "markdown",
      "metadata": {
        "id": "Ezsb-hJWGt3Y"
      },
      "source": [
        "```\n",
        "Build an ANN model for Drug classification. \n",
        "This project aims to analyze the relationship between various medical parameters and drug effectiveness. The dataset consists of patient information, \n",
        "including age, sex, blood pressure levels (BP), cholesterol levels, sodium-to-potassium ratio (Na_to_K), drug type, and corresponding labels. The goal is to \n",
        "develop a model that can accurately predict the class or category of a given drug based on its features. \n",
        "Dataset Link: https://www.kaggle.com/datasets/prathamtripathi/drug-classification\n",
        "Task 1: Read the dataset and do data pre-processing\n",
        "Task 2: Build the ANN model with (input layer, min 3 hidden layers & output layer)\n",
        "Task 3: Test the model with random data\n",
        "\n",
        "```"
      ]
    },
    {
      "cell_type": "code",
      "execution_count": 3,
      "metadata": {
        "id": "7XCKHAfPGt3a"
      },
      "outputs": [],
      "source": [
        "# import the necessary libraries\n",
        "\n",
        "import numpy as np\n",
        "import pandas as pd\n",
        "import matplotlib.pyplot as plt\n",
        "import seaborn as sns"
      ]
    },
    {
      "cell_type": "code",
      "execution_count": 4,
      "metadata": {
        "colab": {
          "base_uri": "https://localhost:8080/",
          "height": 206
        },
        "id": "hRRLbN0fGt3b",
        "outputId": "7c54d26b-9739-440a-9910-348c86f34a85"
      },
      "outputs": [
        {
          "data": {
            "text/html": [
              "<div>\n",
              "<style scoped>\n",
              "    .dataframe tbody tr th:only-of-type {\n",
              "        vertical-align: middle;\n",
              "    }\n",
              "\n",
              "    .dataframe tbody tr th {\n",
              "        vertical-align: top;\n",
              "    }\n",
              "\n",
              "    .dataframe thead th {\n",
              "        text-align: right;\n",
              "    }\n",
              "</style>\n",
              "<table border=\"1\" class=\"dataframe\">\n",
              "  <thead>\n",
              "    <tr style=\"text-align: right;\">\n",
              "      <th></th>\n",
              "      <th>Age</th>\n",
              "      <th>Sex</th>\n",
              "      <th>BP</th>\n",
              "      <th>Cholesterol</th>\n",
              "      <th>Na_to_K</th>\n",
              "      <th>Drug</th>\n",
              "    </tr>\n",
              "  </thead>\n",
              "  <tbody>\n",
              "    <tr>\n",
              "      <th>0</th>\n",
              "      <td>23</td>\n",
              "      <td>F</td>\n",
              "      <td>HIGH</td>\n",
              "      <td>HIGH</td>\n",
              "      <td>25.355</td>\n",
              "      <td>DrugY</td>\n",
              "    </tr>\n",
              "    <tr>\n",
              "      <th>1</th>\n",
              "      <td>47</td>\n",
              "      <td>M</td>\n",
              "      <td>LOW</td>\n",
              "      <td>HIGH</td>\n",
              "      <td>13.093</td>\n",
              "      <td>drugC</td>\n",
              "    </tr>\n",
              "    <tr>\n",
              "      <th>2</th>\n",
              "      <td>47</td>\n",
              "      <td>M</td>\n",
              "      <td>LOW</td>\n",
              "      <td>HIGH</td>\n",
              "      <td>10.114</td>\n",
              "      <td>drugC</td>\n",
              "    </tr>\n",
              "    <tr>\n",
              "      <th>3</th>\n",
              "      <td>28</td>\n",
              "      <td>F</td>\n",
              "      <td>NORMAL</td>\n",
              "      <td>HIGH</td>\n",
              "      <td>7.798</td>\n",
              "      <td>drugX</td>\n",
              "    </tr>\n",
              "    <tr>\n",
              "      <th>4</th>\n",
              "      <td>61</td>\n",
              "      <td>F</td>\n",
              "      <td>LOW</td>\n",
              "      <td>HIGH</td>\n",
              "      <td>18.043</td>\n",
              "      <td>DrugY</td>\n",
              "    </tr>\n",
              "  </tbody>\n",
              "</table>\n",
              "</div>"
            ],
            "text/plain": [
              "   Age Sex      BP Cholesterol  Na_to_K   Drug\n",
              "0   23   F    HIGH        HIGH   25.355  DrugY\n",
              "1   47   M     LOW        HIGH   13.093  drugC\n",
              "2   47   M     LOW        HIGH   10.114  drugC\n",
              "3   28   F  NORMAL        HIGH    7.798  drugX\n",
              "4   61   F     LOW        HIGH   18.043  DrugY"
            ]
          },
          "execution_count": 4,
          "metadata": {},
          "output_type": "execute_result"
        }
      ],
      "source": [
        "df=pd.read_csv('./../Datasets/drug200.csv')\n",
        "df.head()"
      ]
    },
    {
      "cell_type": "code",
      "execution_count": 5,
      "metadata": {
        "colab": {
          "base_uri": "https://localhost:8080/",
          "height": 206
        },
        "id": "vm3OkSk2Gt3b",
        "outputId": "08a37924-8a29-40ee-bc1c-d70e93995acb"
      },
      "outputs": [
        {
          "data": {
            "text/html": [
              "<div>\n",
              "<style scoped>\n",
              "    .dataframe tbody tr th:only-of-type {\n",
              "        vertical-align: middle;\n",
              "    }\n",
              "\n",
              "    .dataframe tbody tr th {\n",
              "        vertical-align: top;\n",
              "    }\n",
              "\n",
              "    .dataframe thead th {\n",
              "        text-align: right;\n",
              "    }\n",
              "</style>\n",
              "<table border=\"1\" class=\"dataframe\">\n",
              "  <thead>\n",
              "    <tr style=\"text-align: right;\">\n",
              "      <th></th>\n",
              "      <th>Age</th>\n",
              "      <th>Sex</th>\n",
              "      <th>BP</th>\n",
              "      <th>Cholesterol</th>\n",
              "      <th>Na_to_K</th>\n",
              "      <th>Drug</th>\n",
              "    </tr>\n",
              "  </thead>\n",
              "  <tbody>\n",
              "    <tr>\n",
              "      <th>195</th>\n",
              "      <td>56</td>\n",
              "      <td>F</td>\n",
              "      <td>LOW</td>\n",
              "      <td>HIGH</td>\n",
              "      <td>11.567</td>\n",
              "      <td>drugC</td>\n",
              "    </tr>\n",
              "    <tr>\n",
              "      <th>196</th>\n",
              "      <td>16</td>\n",
              "      <td>M</td>\n",
              "      <td>LOW</td>\n",
              "      <td>HIGH</td>\n",
              "      <td>12.006</td>\n",
              "      <td>drugC</td>\n",
              "    </tr>\n",
              "    <tr>\n",
              "      <th>197</th>\n",
              "      <td>52</td>\n",
              "      <td>M</td>\n",
              "      <td>NORMAL</td>\n",
              "      <td>HIGH</td>\n",
              "      <td>9.894</td>\n",
              "      <td>drugX</td>\n",
              "    </tr>\n",
              "    <tr>\n",
              "      <th>198</th>\n",
              "      <td>23</td>\n",
              "      <td>M</td>\n",
              "      <td>NORMAL</td>\n",
              "      <td>NORMAL</td>\n",
              "      <td>14.020</td>\n",
              "      <td>drugX</td>\n",
              "    </tr>\n",
              "    <tr>\n",
              "      <th>199</th>\n",
              "      <td>40</td>\n",
              "      <td>F</td>\n",
              "      <td>LOW</td>\n",
              "      <td>NORMAL</td>\n",
              "      <td>11.349</td>\n",
              "      <td>drugX</td>\n",
              "    </tr>\n",
              "  </tbody>\n",
              "</table>\n",
              "</div>"
            ],
            "text/plain": [
              "     Age Sex      BP Cholesterol  Na_to_K   Drug\n",
              "195   56   F     LOW        HIGH   11.567  drugC\n",
              "196   16   M     LOW        HIGH   12.006  drugC\n",
              "197   52   M  NORMAL        HIGH    9.894  drugX\n",
              "198   23   M  NORMAL      NORMAL   14.020  drugX\n",
              "199   40   F     LOW      NORMAL   11.349  drugX"
            ]
          },
          "execution_count": 5,
          "metadata": {},
          "output_type": "execute_result"
        }
      ],
      "source": [
        "df.tail()"
      ]
    },
    {
      "cell_type": "code",
      "execution_count": 6,
      "metadata": {
        "colab": {
          "base_uri": "https://localhost:8080/"
        },
        "id": "9ARGdn-2Gt3c",
        "outputId": "a7485184-58ff-47cc-8680-f5b181d0558f"
      },
      "outputs": [
        {
          "data": {
            "text/plain": [
              "(200, 6)"
            ]
          },
          "execution_count": 6,
          "metadata": {},
          "output_type": "execute_result"
        }
      ],
      "source": [
        "df.shape"
      ]
    },
    {
      "cell_type": "code",
      "execution_count": 7,
      "metadata": {
        "colab": {
          "base_uri": "https://localhost:8080/"
        },
        "id": "NSYrV24hGt3c",
        "outputId": "1a26e07f-88bd-4d74-89d2-5e984fb297fa"
      },
      "outputs": [
        {
          "name": "stdout",
          "output_type": "stream",
          "text": [
            "<class 'pandas.core.frame.DataFrame'>\n",
            "RangeIndex: 200 entries, 0 to 199\n",
            "Data columns (total 6 columns):\n",
            " #   Column       Non-Null Count  Dtype  \n",
            "---  ------       --------------  -----  \n",
            " 0   Age          200 non-null    int64  \n",
            " 1   Sex          200 non-null    object \n",
            " 2   BP           200 non-null    object \n",
            " 3   Cholesterol  200 non-null    object \n",
            " 4   Na_to_K      200 non-null    float64\n",
            " 5   Drug         200 non-null    object \n",
            "dtypes: float64(1), int64(1), object(4)\n",
            "memory usage: 9.5+ KB\n"
          ]
        }
      ],
      "source": [
        "df.info()"
      ]
    },
    {
      "cell_type": "code",
      "execution_count": 8,
      "metadata": {
        "colab": {
          "base_uri": "https://localhost:8080/"
        },
        "id": "cwgaV0bCGt3c",
        "outputId": "31516a32-58c2-41ce-f620-84981b777ed2"
      },
      "outputs": [
        {
          "data": {
            "text/plain": [
              "Age            0\n",
              "Sex            0\n",
              "BP             0\n",
              "Cholesterol    0\n",
              "Na_to_K        0\n",
              "Drug           0\n",
              "dtype: int64"
            ]
          },
          "execution_count": 8,
          "metadata": {},
          "output_type": "execute_result"
        }
      ],
      "source": [
        "df.isnull().sum()\n",
        "#no null values, so no replacement with median/mode requred"
      ]
    },
    {
      "cell_type": "code",
      "execution_count": 9,
      "metadata": {
        "colab": {
          "base_uri": "https://localhost:8080/"
        },
        "id": "20tlaMAsGt3c",
        "outputId": "b84bc3c5-3356-46b1-b0e2-07abfc3b7cb1"
      },
      "outputs": [
        {
          "data": {
            "text/plain": [
              "array(['F', 'M'], dtype=object)"
            ]
          },
          "execution_count": 9,
          "metadata": {},
          "output_type": "execute_result"
        }
      ],
      "source": [
        "df.Sex.unique()"
      ]
    },
    {
      "cell_type": "code",
      "execution_count": 10,
      "metadata": {
        "colab": {
          "base_uri": "https://localhost:8080/"
        },
        "id": "ExmS6iBlGt3c",
        "outputId": "3376cd95-5ffb-48c4-fadb-d88f9ee4f6d6"
      },
      "outputs": [
        {
          "data": {
            "text/plain": [
              "array(['HIGH', 'LOW', 'NORMAL'], dtype=object)"
            ]
          },
          "execution_count": 10,
          "metadata": {},
          "output_type": "execute_result"
        }
      ],
      "source": [
        "df.BP.unique()"
      ]
    },
    {
      "cell_type": "code",
      "execution_count": 11,
      "metadata": {
        "colab": {
          "base_uri": "https://localhost:8080/"
        },
        "id": "oimU9fY0Gt3c",
        "outputId": "9a4e9217-d793-4b0c-e1ad-8883a2ca3911"
      },
      "outputs": [
        {
          "data": {
            "text/plain": [
              "array(['HIGH', 'NORMAL'], dtype=object)"
            ]
          },
          "execution_count": 11,
          "metadata": {},
          "output_type": "execute_result"
        }
      ],
      "source": [
        "df.Cholesterol.unique()"
      ]
    },
    {
      "cell_type": "code",
      "execution_count": 12,
      "metadata": {
        "colab": {
          "base_uri": "https://localhost:8080/"
        },
        "id": "qfYrMdxBGt3d",
        "outputId": "bb12a319-d0c4-45a2-a1d8-0984f690708d"
      },
      "outputs": [
        {
          "data": {
            "text/plain": [
              "array(['DrugY', 'drugC', 'drugX', 'drugA', 'drugB'], dtype=object)"
            ]
          },
          "execution_count": 12,
          "metadata": {},
          "output_type": "execute_result"
        }
      ],
      "source": [
        "df.Drug.unique()"
      ]
    },
    {
      "cell_type": "markdown",
      "metadata": {
        "id": "lJDyyzi7Gt3d"
      },
      "source": [
        "## Visualization"
      ]
    },
    {
      "cell_type": "code",
      "execution_count": 13,
      "metadata": {
        "colab": {
          "base_uri": "https://localhost:8080/",
          "height": 657
        },
        "id": "EaHnAovnGt3d",
        "outputId": "7a3dd3c1-4557-4478-ed94-c08d070d25e4"
      },
      "outputs": [
        {
          "name": "stderr",
          "output_type": "stream",
          "text": [
            "C:\\Users\\GAURANG RASTOGI\\AppData\\Local\\Temp\\ipykernel_11320\\1239919984.py:1: UserWarning: \n",
            "\n",
            "`distplot` is a deprecated function and will be removed in seaborn v0.14.0.\n",
            "\n",
            "Please adapt your code to use either `displot` (a figure-level function with\n",
            "similar flexibility) or `histplot` (an axes-level function for histograms).\n",
            "\n",
            "For a guide to updating your code to use the new functions, please see\n",
            "https://gist.github.com/mwaskom/de44147ed2974457ad6372750bbe5751\n",
            "\n",
            "  sns.distplot(df.Age)\n"
          ]
        },
        {
          "data": {
            "text/plain": [
              "<AxesSubplot:xlabel='Age', ylabel='Density'>"
            ]
          },
          "execution_count": 13,
          "metadata": {},
          "output_type": "execute_result"
        },
        {
          "data": {
            "image/png": "[encoded data removed]",
            "text/plain": [
              "<Figure size 432x288 with 1 Axes>"
            ]
          },
          "metadata": {
            "needs_background": "light"
          },
          "output_type": "display_data"
        }
      ],
      "source": [
        "sns.distplot(df.Age)"
      ]
    },
    {
      "cell_type": "code",
      "execution_count": 14,
      "metadata": {
        "colab": {
          "base_uri": "https://localhost:8080/",
          "height": 657
        },
        "id": "O6UPLEM8Gt3d",
        "outputId": "39ed0fe0-4613-4a33-8b83-3e2e34fc0a46"
      },
      "outputs": [
        {
          "name": "stderr",
          "output_type": "stream",
          "text": [
            "C:\\Users\\GAURANG RASTOGI\\AppData\\Local\\Temp\\ipykernel_11320\\1439979572.py:1: UserWarning: \n",
            "\n",
            "`distplot` is a deprecated function and will be removed in seaborn v0.14.0.\n",
            "\n",
            "Please adapt your code to use either `displot` (a figure-level function with\n",
            "similar flexibility) or `histplot` (an axes-level function for histograms).\n",
            "\n",
            "For a guide to updating your code to use the new functions, please see\n",
            "https://gist.github.com/mwaskom/de44147ed2974457ad6372750bbe5751\n",
            "\n",
            "  sns.distplot(df.Na_to_K)\n"
          ]
        },
        {
          "data": {
            "text/plain": [
              "<AxesSubplot:xlabel='Na_to_K', ylabel='Density'>"
            ]
          },
          "execution_count": 14,
          "metadata": {},
          "output_type": "execute_result"
        },
        {
          "data": {
            "image/png": "[encoded data removed]",
            "text/plain": [
              "<Figure size 432x288 with 1 Axes>"
            ]
          },
          "metadata": {
            "needs_background": "light"
          },
          "output_type": "display_data"
        }
      ],
      "source": [
        "sns.distplot(df.Na_to_K)"
      ]
    },
    {
      "cell_type": "code",
      "execution_count": 15,
      "metadata": {
        "colab": {
          "base_uri": "https://localhost:8080/",
          "height": 428
        },
        "id": "c1szICckGt3d",
        "outputId": "8813bd62-6b4f-480e-caa3-938c28cd3805"
      },
      "outputs": [
        {
          "data": {
            "image/png": "[encoded data removed]",
            "text/plain": [
              "<Figure size 432x288 with 1 Axes>"
            ]
          },
          "metadata": {},
          "output_type": "display_data"
        }
      ],
      "source": [
        "#Categorical Columns\n",
        "#pie-plot = caterigorical column, value_count() is parameter\n",
        "plt.pie(df.Sex.value_counts(),[0.1,0],labels=['M','F'], autopct=\"%1.1f%%\" , colors=['red','yellow'], shadow=True)\n",
        "plt.title('Sex')\n",
        "plt.show() #to only  show piechart"
      ]
    },
    {
      "cell_type": "markdown",
      "metadata": {
        "id": "mX5ccivlGt3e"
      },
      "source": [
        "## Outlier Detection and Replacement"
      ]
    },
    {
      "cell_type": "code",
      "execution_count": 16,
      "metadata": {
        "colab": {
          "base_uri": "https://localhost:8080/",
          "height": 447
        },
        "id": "zu3q5I67Gt3e",
        "outputId": "84b9e23e-401f-4a5a-8f2d-3a467a897847"
      },
      "outputs": [
        {
          "data": {
            "text/plain": [
              "<AxesSubplot:>"
            ]
          },
          "execution_count": 16,
          "metadata": {},
          "output_type": "execute_result"
        },
        {
          "data": {
            "image/png": "[encoded data removed]",
            "text/plain": [
              "<Figure size 432x288 with 1 Axes>"
            ]
          },
          "metadata": {
            "needs_background": "light"
          },
          "output_type": "display_data"
        }
      ],
      "source": [
        "sns.boxplot(df)"
      ]
    },
    {
      "cell_type": "code",
      "execution_count": 17,
      "metadata": {
        "id": "AWaGbFrdGt3e"
      },
      "outputs": [],
      "source": [
        "# we can we've some outliers in Na_to_K, in upper limit\n",
        "q1=df.Na_to_K.quantile(0.25)\n",
        "q3=df.Na_to_K.quantile(0.75)"
      ]
    },
    {
      "cell_type": "code",
      "execution_count": 18,
      "metadata": {
        "colab": {
          "base_uri": "https://localhost:8080/"
        },
        "id": "P9iPg3mWGt3e",
        "outputId": "039ffc1d-22fc-43ca-cda6-76d207b32f45"
      },
      "outputs": [
        {
          "data": {
            "text/plain": [
              "10.4455"
            ]
          },
          "execution_count": 18,
          "metadata": {},
          "output_type": "execute_result"
        }
      ],
      "source": [
        "q1"
      ]
    },
    {
      "cell_type": "code",
      "execution_count": 19,
      "metadata": {
        "colab": {
          "base_uri": "https://localhost:8080/"
        },
        "id": "UaVQewrzGt3e",
        "outputId": "8d237991-89b2-4682-b46d-ceee281500c9"
      },
      "outputs": [
        {
          "data": {
            "text/plain": [
              "19.38"
            ]
          },
          "execution_count": 19,
          "metadata": {},
          "output_type": "execute_result"
        }
      ],
      "source": [
        "q3"
      ]
    },
    {
      "cell_type": "code",
      "execution_count": 20,
      "metadata": {
        "id": "n-LkySg0Gt3e"
      },
      "outputs": [],
      "source": [
        "#IQR value\n",
        "IQR=q3-q1\n",
        "upper_limit = q3 + 1.5*IQR\n",
        "lower_limit = q1-1.5*IQR"
      ]
    },
    {
      "cell_type": "code",
      "execution_count": 21,
      "metadata": {
        "colab": {
          "base_uri": "https://localhost:8080/"
        },
        "id": "08F2JRYwGt3e",
        "outputId": "e858d0c1-888b-4a64-d618-d0a945451cfe"
      },
      "outputs": [
        {
          "name": "stderr",
          "output_type": "stream",
          "text": [
            "C:\\Users\\GAURANG RASTOGI\\AppData\\Local\\Temp\\ipykernel_11320\\530051474.py:1: FutureWarning: Dropping of nuisance columns in DataFrame reductions (with 'numeric_only=None') is deprecated; in a future version this will raise TypeError.  Select only valid columns before calling the reduction.\n",
            "  df.median()\n"
          ]
        },
        {
          "data": {
            "text/plain": [
              "Age        45.0000\n",
              "Na_to_K    13.9365\n",
              "dtype: float64"
            ]
          },
          "execution_count": 21,
          "metadata": {},
          "output_type": "execute_result"
        }
      ],
      "source": [
        "df.median()"
      ]
    },
    {
      "cell_type": "code",
      "execution_count": 22,
      "metadata": {
        "id": "PMKLA4-TGt3f"
      },
      "outputs": [],
      "source": [
        "df['Na_to_K']=np.where(df['Na_to_K']>upper_limit,13.9365,df['Na_to_K'])\n",
        "# since 13.9365 is median"
      ]
    },
    {
      "cell_type": "code",
      "execution_count": 23,
      "metadata": {
        "colab": {
          "base_uri": "https://localhost:8080/",
          "height": 447
        },
        "id": "IHWn3hA9Gt3f",
        "outputId": "b2005604-57f4-42ed-be83-b876c2f78119"
      },
      "outputs": [
        {
          "data": {
            "text/plain": [
              "<AxesSubplot:>"
            ]
          },
          "execution_count": 23,
          "metadata": {},
          "output_type": "execute_result"
        },
        {
          "data": {
            "image/png": "[encoded data removed]",
            "text/plain": [
              "<Figure size 432x288 with 1 Axes>"
            ]
          },
          "metadata": {
            "needs_background": "light"
          },
          "output_type": "display_data"
        }
      ],
      "source": [
        "sns.boxplot(df.Na_to_K)"
      ]
    },
    {
      "cell_type": "code",
      "execution_count": 24,
      "metadata": {
        "colab": {
          "base_uri": "https://localhost:8080/"
        },
        "id": "fAoFKvR4Gt3f",
        "outputId": "b9acd51a-d638-4d78-e6d8-125ed4f251d4"
      },
      "outputs": [
        {
          "data": {
            "text/plain": [
              "(200, 6)"
            ]
          },
          "execution_count": 24,
          "metadata": {},
          "output_type": "execute_result"
        }
      ],
      "source": [
        "df.shape"
      ]
    },
    {
      "cell_type": "code",
      "execution_count": 25,
      "metadata": {
        "colab": {
          "base_uri": "https://localhost:8080/",
          "height": 206
        },
        "id": "h1JiwOEXGt3f",
        "outputId": "016c3f9c-3970-4ae1-910f-613517fb7b76"
      },
      "outputs": [
        {
          "data": {
            "text/html": [
              "<div>\n",
              "<style scoped>\n",
              "    .dataframe tbody tr th:only-of-type {\n",
              "        vertical-align: middle;\n",
              "    }\n",
              "\n",
              "    .dataframe tbody tr th {\n",
              "        vertical-align: top;\n",
              "    }\n",
              "\n",
              "    .dataframe thead th {\n",
              "        text-align: right;\n",
              "    }\n",
              "</style>\n",
              "<table border=\"1\" class=\"dataframe\">\n",
              "  <thead>\n",
              "    <tr style=\"text-align: right;\">\n",
              "      <th></th>\n",
              "      <th>Age</th>\n",
              "      <th>Sex</th>\n",
              "      <th>BP</th>\n",
              "      <th>Cholesterol</th>\n",
              "      <th>Na_to_K</th>\n",
              "      <th>Drug</th>\n",
              "    </tr>\n",
              "  </thead>\n",
              "  <tbody>\n",
              "    <tr>\n",
              "      <th>0</th>\n",
              "      <td>23</td>\n",
              "      <td>F</td>\n",
              "      <td>HIGH</td>\n",
              "      <td>HIGH</td>\n",
              "      <td>25.355</td>\n",
              "      <td>DrugY</td>\n",
              "    </tr>\n",
              "    <tr>\n",
              "      <th>1</th>\n",
              "      <td>47</td>\n",
              "      <td>M</td>\n",
              "      <td>LOW</td>\n",
              "      <td>HIGH</td>\n",
              "      <td>13.093</td>\n",
              "      <td>drugC</td>\n",
              "    </tr>\n",
              "    <tr>\n",
              "      <th>2</th>\n",
              "      <td>47</td>\n",
              "      <td>M</td>\n",
              "      <td>LOW</td>\n",
              "      <td>HIGH</td>\n",
              "      <td>10.114</td>\n",
              "      <td>drugC</td>\n",
              "    </tr>\n",
              "    <tr>\n",
              "      <th>3</th>\n",
              "      <td>28</td>\n",
              "      <td>F</td>\n",
              "      <td>NORMAL</td>\n",
              "      <td>HIGH</td>\n",
              "      <td>7.798</td>\n",
              "      <td>drugX</td>\n",
              "    </tr>\n",
              "    <tr>\n",
              "      <th>4</th>\n",
              "      <td>61</td>\n",
              "      <td>F</td>\n",
              "      <td>LOW</td>\n",
              "      <td>HIGH</td>\n",
              "      <td>18.043</td>\n",
              "      <td>DrugY</td>\n",
              "    </tr>\n",
              "  </tbody>\n",
              "</table>\n",
              "</div>"
            ],
            "text/plain": [
              "   Age Sex      BP Cholesterol  Na_to_K   Drug\n",
              "0   23   F    HIGH        HIGH   25.355  DrugY\n",
              "1   47   M     LOW        HIGH   13.093  drugC\n",
              "2   47   M     LOW        HIGH   10.114  drugC\n",
              "3   28   F  NORMAL        HIGH    7.798  drugX\n",
              "4   61   F     LOW        HIGH   18.043  DrugY"
            ]
          },
          "execution_count": 25,
          "metadata": {},
          "output_type": "execute_result"
        }
      ],
      "source": [
        "df.head()"
      ]
    },
    {
      "cell_type": "markdown",
      "metadata": {
        "id": "NLVF4rbkGt3f"
      },
      "source": [
        "### Split the training and testing data"
      ]
    },
    {
      "cell_type": "code",
      "execution_count": 26,
      "metadata": {
        "id": "LpaztpuBGt3f"
      },
      "outputs": [],
      "source": [
        "from sklearn.model_selection import train_test_split"
      ]
    },
    {
      "cell_type": "code",
      "execution_count": 27,
      "metadata": {
        "id": "rEnV9wwSGt3f"
      },
      "outputs": [],
      "source": [
        "x=df.iloc[:,:5]\n",
        "y = df.iloc[:,-1]\n",
        "# y=df['Drug']"
      ]
    },
    {
      "cell_type": "code",
      "execution_count": 28,
      "metadata": {
        "id": "Js673G6nOG7v"
      },
      "outputs": [],
      "source": [
        "#Doing Encoding-> using LabelEncoder\n",
        "from sklearn.preprocessing import LabelEncoder\n",
        "label_encoder = LabelEncoder()\n",
        "x['Sex'] = label_encoder.fit_transform(x['Sex'])\n",
        "x['BP'] = label_encoder.fit_transform(x['BP'])\n",
        "x['Cholesterol'] = label_encoder.fit_transform(x['Cholesterol'])\n"
      ]
    },
    {
      "cell_type": "code",
      "execution_count": 29,
      "metadata": {
        "id": "5HARVRnON0bD"
      },
      "outputs": [
        {
          "name": "stdout",
          "output_type": "stream",
          "text": [
            "     0  1  2  3  4\n",
            "0    1  0  0  0  0\n",
            "1    0  0  0  1  0\n",
            "2    0  0  0  1  0\n",
            "3    0  0  0  0  1\n",
            "4    1  0  0  0  0\n",
            "..  .. .. .. .. ..\n",
            "195  0  0  0  1  0\n",
            "196  0  0  0  1  0\n",
            "197  0  0  0  0  1\n",
            "198  0  0  0  0  1\n",
            "199  0  0  0  0  1\n",
            "\n",
            "[200 rows x 5 columns]\n"
          ]
        }
      ],
      "source": [
        "label_encoder.fit(y)  # Fit the label encoder on the entire target variable\n",
        "y = label_encoder.transform(y)\n",
        "y = pd.get_dummies(y)\n",
        "#kind of one hot encoding\n",
        "print(y)"
      ]
    },
    {
      "cell_type": "code",
      "execution_count": 30,
      "metadata": {
        "id": "ykzQWsKFGt3g"
      },
      "outputs": [],
      "source": [
        "xtrain,xtest,ytrain,ytest = train_test_split(x,y,test_size=0.2,random_state=12)"
      ]
    },
    {
      "cell_type": "code",
      "execution_count": 31,
      "metadata": {
        "id": "sU4plwavO8hk"
      },
      "outputs": [],
      "source": [
        "xtrain = xtrain.astype(np.float32)\n",
        "xtest = xtest.astype(np.float32)"
      ]
    },
    {
      "cell_type": "code",
      "execution_count": 32,
      "metadata": {
        "colab": {
          "base_uri": "https://localhost:8080/"
        },
        "id": "qBmblOKSGt3g",
        "outputId": "3e02f3ab-96f9-491d-8568-bcdca444e32c"
      },
      "outputs": [
        {
          "data": {
            "text/plain": [
              "(40, 5)"
            ]
          },
          "execution_count": 32,
          "metadata": {},
          "output_type": "execute_result"
        }
      ],
      "source": [
        "xtest.shape"
      ]
    },
    {
      "cell_type": "code",
      "execution_count": 34,
      "metadata": {
        "colab": {
          "base_uri": "https://localhost:8080/"
        },
        "id": "5IO3A8gRGt3g",
        "outputId": "7faeb4da-2f11-4828-c044-0d15689c8a48"
      },
      "outputs": [
        {
          "name": "stdout",
          "output_type": "stream",
          "text": [
            "      Age  Sex   BP  Cholesterol    Na_to_K\n",
            "77   26.0  0.0  0.0          1.0  19.160999\n",
            "47   68.0  1.0  1.0          0.0  10.291000\n",
            "94   56.0  1.0  1.0          0.0  15.015000\n",
            "14   50.0  0.0  2.0          0.0  12.703000\n",
            "41   58.0  0.0  0.0          1.0  14.239000\n",
            "..    ...  ...  ...          ...        ...\n",
            "3    28.0  0.0  2.0          0.0   7.798000\n",
            "130  70.0  0.0  2.0          0.0  20.489000\n",
            "134  42.0  0.0  0.0          0.0  21.035999\n",
            "155  49.0  1.0  1.0          0.0  10.537000\n",
            "75   26.0  1.0  1.0          1.0  20.909000\n",
            "\n",
            "[160 rows x 5 columns]\n"
          ]
        }
      ],
      "source": [
        "print(xtrain)\n"
      ]
    },
    {
      "cell_type": "code",
      "execution_count": 35,
      "metadata": {
        "id": "kSp3nlj2Gt3h"
      },
      "outputs": [],
      "source": [
        "# ytrain=le.fit_transform(ytrain)\n",
        "# ytest=le.transform(ytest)\n",
        "# print(ytrain)"
      ]
    },
    {
      "cell_type": "markdown",
      "metadata": {
        "id": "y6f5FGRdGt3h"
      },
      "source": [
        "## Building ANN Model"
      ]
    },
    {
      "cell_type": "code",
      "execution_count": 36,
      "metadata": {
        "id": "uSN8z1dWGt3h"
      },
      "outputs": [],
      "source": [
        "# Build an ANN model\n",
        "\n",
        "from tensorflow.keras.models import Sequential\n",
        "from tensorflow.keras.layers import Dense"
      ]
    },
    {
      "cell_type": "code",
      "execution_count": 37,
      "metadata": {
        "id": "4CXRIK7VGt3h"
      },
      "outputs": [],
      "source": [
        "# Initializing the seq model\n",
        "clf_model = Sequential()\n",
        "# Adding the input layer to the model\n",
        "clf_model.add(Dense(5,activation='relu'))\n",
        "# Adding the 1st hidden layer to the model\n",
        "clf_model.add(Dense(12,activation='relu'))\n",
        "# Adding the 2nd hidden layer to the model\n",
        "clf_model.add(Dense(10,activation='relu'))\n",
        "# Adding output layer\n",
        "clf_model.add(Dense(5,activation='softmax'))"
      ]
    },
    {
      "cell_type": "code",
      "execution_count": 38,
      "metadata": {
        "id": "XJfzAdeOGt3h"
      },
      "outputs": [],
      "source": [
        "clf_model.compile(optimizer='adam',loss='categorical_crossentropy',metrics=['accuracy'])\n",
        "\n",
        "# in binary-classification -> binary_crossentropy should be loss"
      ]
    },
    {
      "cell_type": "markdown",
      "metadata": {
        "id": "rPi2mIsBGt3i"
      },
      "source": [
        "### Testing the Model"
      ]
    },
    {
      "cell_type": "code",
      "execution_count": 39,
      "metadata": {
        "id": "bd8OUkkXGt3i"
      },
      "outputs": [],
      "source": [
        "#Encoding the testing data\n",
        "\n",
        "# ypred = clf_model.predict(xtest)\n",
        "# xtest.size,ypred.size\n",
        "# ytestval = ytest.transform()"
      ]
    },
    {
      "cell_type": "code",
      "execution_count": 40,
      "metadata": {
        "id": "SsAW-td4Gt3i"
      },
      "outputs": [],
      "source": [
        "# Comparing predicted with the actual value\n",
        "\n",
        "# comp = pd.DataFrame(ytest)  # Creating a dataframe\n",
        "# comp.columns = ['Actual Value']  # Changing the column name\n",
        "# comp['Predicted values'] = ypred  # Creating a column based onth prediction\n",
        "# comp"
      ]
    },
    {
      "cell_type": "code",
      "execution_count": 41,
      "metadata": {
        "colab": {
          "base_uri": "https://localhost:8080/"
        },
        "id": "FtXCG3F8Gt3i",
        "outputId": "da405975-8acc-411c-f12d-5cd538ed2e21"
      },
      "outputs": [
        {
          "name": "stdout",
          "output_type": "stream",
          "text": [
            "Epoch 1/50\n",
            "32/32 [==============================] - 1s 8ms/step - loss: 1.9189 - accuracy: 0.1500 - val_loss: 1.5809 - val_accuracy: 0.2000\n",
            "Epoch 2/50\n",
            "32/32 [==============================] - 0s 4ms/step - loss: 1.4947 - accuracy: 0.3750 - val_loss: 1.4248 - val_accuracy: 0.4000\n",
            "Epoch 3/50\n",
            "32/32 [==============================] - 0s 4ms/step - loss: 1.3134 - accuracy: 0.4812 - val_loss: 1.3331 - val_accuracy: 0.4000\n",
            "Epoch 4/50\n",
            "32/32 [==============================] - 0s 3ms/step - loss: 1.2445 - accuracy: 0.4875 - val_loss: 1.2433 - val_accuracy: 0.4750\n",
            "Epoch 5/50\n",
            "32/32 [==============================] - 0s 4ms/step - loss: 1.2070 - accuracy: 0.5250 - val_loss: 1.1830 - val_accuracy: 0.5250\n",
            "Epoch 6/50\n",
            "32/32 [==============================] - 0s 4ms/step - loss: 1.1760 - accuracy: 0.5000 - val_loss: 1.1548 - val_accuracy: 0.5250\n",
            "Epoch 7/50\n",
            "32/32 [==============================] - 0s 4ms/step - loss: 1.1572 - accuracy: 0.5250 - val_loss: 1.1252 - val_accuracy: 0.5250\n",
            "Epoch 8/50\n",
            "32/32 [==============================] - 0s 4ms/step - loss: 1.1368 - accuracy: 0.5250 - val_loss: 1.1043 - val_accuracy: 0.5250\n",
            "Epoch 9/50\n",
            "32/32 [==============================] - 0s 4ms/step - loss: 1.1229 - accuracy: 0.5250 - val_loss: 1.0702 - val_accuracy: 0.6250\n",
            "Epoch 10/50\n",
            "32/32 [==============================] - 0s 4ms/step - loss: 1.1128 - accuracy: 0.5188 - val_loss: 1.0601 - val_accuracy: 0.6250\n",
            "Epoch 11/50\n",
            "32/32 [==============================] - 0s 4ms/step - loss: 1.1055 - accuracy: 0.5000 - val_loss: 1.0664 - val_accuracy: 0.5750\n",
            "Epoch 12/50\n",
            "32/32 [==============================] - 0s 6ms/step - loss: 1.0917 - accuracy: 0.5375 - val_loss: 1.0709 - val_accuracy: 0.5500\n",
            "Epoch 13/50\n",
            "32/32 [==============================] - 0s 4ms/step - loss: 1.0749 - accuracy: 0.5375 - val_loss: 1.0476 - val_accuracy: 0.5750\n",
            "Epoch 14/50\n",
            "32/32 [==============================] - 0s 4ms/step - loss: 1.0630 - accuracy: 0.5562 - val_loss: 1.0237 - val_accuracy: 0.6250\n",
            "Epoch 15/50\n",
            "32/32 [==============================] - 0s 4ms/step - loss: 1.0556 - accuracy: 0.5437 - val_loss: 1.0542 - val_accuracy: 0.5500\n",
            "Epoch 16/50\n",
            "32/32 [==============================] - 0s 4ms/step - loss: 1.0356 - accuracy: 0.5437 - val_loss: 1.0206 - val_accuracy: 0.5750\n",
            "Epoch 17/50\n",
            "32/32 [==============================] - 0s 4ms/step - loss: 1.0467 - accuracy: 0.5500 - val_loss: 1.0487 - val_accuracy: 0.5500\n",
            "Epoch 18/50\n",
            "32/32 [==============================] - 0s 4ms/step - loss: 1.0209 - accuracy: 0.5562 - val_loss: 0.9859 - val_accuracy: 0.6750\n",
            "Epoch 19/50\n",
            "32/32 [==============================] - 0s 4ms/step - loss: 0.9918 - accuracy: 0.5688 - val_loss: 0.9720 - val_accuracy: 0.6250\n",
            "Epoch 20/50\n",
            "32/32 [==============================] - 0s 4ms/step - loss: 0.9771 - accuracy: 0.5875 - val_loss: 0.9691 - val_accuracy: 0.6000\n",
            "Epoch 21/50\n",
            "32/32 [==============================] - 0s 4ms/step - loss: 0.9633 - accuracy: 0.5750 - val_loss: 0.9751 - val_accuracy: 0.6500\n",
            "Epoch 22/50\n",
            "32/32 [==============================] - 0s 4ms/step - loss: 0.9437 - accuracy: 0.6000 - val_loss: 0.9248 - val_accuracy: 0.6250\n",
            "Epoch 23/50\n",
            "32/32 [==============================] - 0s 4ms/step - loss: 0.9167 - accuracy: 0.6062 - val_loss: 0.9332 - val_accuracy: 0.6500\n",
            "Epoch 24/50\n",
            "32/32 [==============================] - 0s 4ms/step - loss: 0.9022 - accuracy: 0.6562 - val_loss: 0.8906 - val_accuracy: 0.6750\n",
            "Epoch 25/50\n",
            "32/32 [==============================] - 0s 4ms/step - loss: 0.8758 - accuracy: 0.6500 - val_loss: 0.8604 - val_accuracy: 0.6750\n",
            "Epoch 26/50\n",
            "32/32 [==============================] - 0s 4ms/step - loss: 0.8528 - accuracy: 0.6812 - val_loss: 0.8380 - val_accuracy: 0.6750\n",
            "Epoch 27/50\n",
            "32/32 [==============================] - 0s 4ms/step - loss: 0.8419 - accuracy: 0.6625 - val_loss: 0.8266 - val_accuracy: 0.6750\n",
            "Epoch 28/50\n",
            "32/32 [==============================] - 0s 4ms/step - loss: 0.8130 - accuracy: 0.6750 - val_loss: 0.8485 - val_accuracy: 0.6500\n",
            "Epoch 29/50\n",
            "32/32 [==============================] - 0s 4ms/step - loss: 0.7908 - accuracy: 0.6938 - val_loss: 0.8318 - val_accuracy: 0.6500\n",
            "Epoch 30/50\n",
            "32/32 [==============================] - 0s 4ms/step - loss: 0.7741 - accuracy: 0.6750 - val_loss: 0.9402 - val_accuracy: 0.6000\n",
            "Epoch 31/50\n",
            "32/32 [==============================] - 0s 4ms/step - loss: 0.7923 - accuracy: 0.6375 - val_loss: 0.8173 - val_accuracy: 0.6500\n",
            "Epoch 32/50\n",
            "32/32 [==============================] - 0s 4ms/step - loss: 0.7436 - accuracy: 0.6875 - val_loss: 0.8101 - val_accuracy: 0.6500\n",
            "Epoch 33/50\n",
            "32/32 [==============================] - 0s 3ms/step - loss: 0.7302 - accuracy: 0.7000 - val_loss: 0.7350 - val_accuracy: 0.7000\n",
            "Epoch 34/50\n",
            "32/32 [==============================] - 0s 3ms/step - loss: 0.7210 - accuracy: 0.6938 - val_loss: 0.6968 - val_accuracy: 0.7000\n",
            "Epoch 35/50\n",
            "32/32 [==============================] - 0s 3ms/step - loss: 0.7129 - accuracy: 0.6938 - val_loss: 0.8558 - val_accuracy: 0.6500\n",
            "Epoch 36/50\n",
            "32/32 [==============================] - 0s 3ms/step - loss: 0.6892 - accuracy: 0.7063 - val_loss: 0.6822 - val_accuracy: 0.7000\n",
            "Epoch 37/50\n",
            "32/32 [==============================] - 0s 3ms/step - loss: 0.6969 - accuracy: 0.6812 - val_loss: 0.6865 - val_accuracy: 0.7000\n",
            "Epoch 38/50\n",
            "32/32 [==============================] - 0s 3ms/step - loss: 0.6747 - accuracy: 0.6938 - val_loss: 0.6866 - val_accuracy: 0.7000\n",
            "Epoch 39/50\n",
            "32/32 [==============================] - 0s 3ms/step - loss: 0.6706 - accuracy: 0.7000 - val_loss: 0.6623 - val_accuracy: 0.6750\n",
            "Epoch 40/50\n",
            "32/32 [==============================] - 0s 4ms/step - loss: 0.6524 - accuracy: 0.6812 - val_loss: 0.7254 - val_accuracy: 0.6750\n",
            "Epoch 41/50\n",
            "32/32 [==============================] - 0s 4ms/step - loss: 0.6500 - accuracy: 0.7000 - val_loss: 0.6703 - val_accuracy: 0.6750\n",
            "Epoch 42/50\n",
            "32/32 [==============================] - 0s 4ms/step - loss: 0.6432 - accuracy: 0.7000 - val_loss: 0.7102 - val_accuracy: 0.7000\n",
            "Epoch 43/50\n",
            "32/32 [==============================] - 0s 5ms/step - loss: 0.6285 - accuracy: 0.6875 - val_loss: 0.6897 - val_accuracy: 0.7000\n",
            "Epoch 44/50\n",
            "32/32 [==============================] - 0s 4ms/step - loss: 0.6310 - accuracy: 0.6938 - val_loss: 0.7393 - val_accuracy: 0.6750\n",
            "Epoch 45/50\n",
            "32/32 [==============================] - 0s 4ms/step - loss: 0.6144 - accuracy: 0.7188 - val_loss: 0.6617 - val_accuracy: 0.6750\n",
            "Epoch 46/50\n",
            "32/32 [==============================] - 0s 4ms/step - loss: 0.6170 - accuracy: 0.7000 - val_loss: 0.6844 - val_accuracy: 0.7000\n",
            "Epoch 47/50\n",
            "32/32 [==============================] - 0s 4ms/step - loss: 0.6169 - accuracy: 0.7125 - val_loss: 0.6492 - val_accuracy: 0.7250\n",
            "Epoch 48/50\n",
            "32/32 [==============================] - 0s 3ms/step - loss: 0.6000 - accuracy: 0.7000 - val_loss: 0.6697 - val_accuracy: 0.7250\n",
            "Epoch 49/50\n",
            "32/32 [==============================] - 0s 4ms/step - loss: 0.6210 - accuracy: 0.7063 - val_loss: 0.6340 - val_accuracy: 0.7000\n",
            "Epoch 50/50\n",
            "32/32 [==============================] - 0s 4ms/step - loss: 0.5962 - accuracy: 0.7000 - val_loss: 0.7160 - val_accuracy: 0.6750\n"
          ]
        },
        {
          "data": {
            "text/plain": [
              "<keras.callbacks.History at 0x1711cf5bd00>"
            ]
          },
          "execution_count": 41,
          "metadata": {},
          "output_type": "execute_result"
        }
      ],
      "source": [
        "clf_model.fit(xtrain,ytrain,epochs=50,batch_size=5,validation_data=(xtest,ytest))\n",
        "# while training only ,we're validating"
      ]
    },
    {
      "cell_type": "code",
      "execution_count": 42,
      "metadata": {
        "colab": {
          "base_uri": "https://localhost:8080/"
        },
        "id": "guYvPS6LOr7E",
        "outputId": "a4f72345-d333-4ae1-cefd-5d270fe5eab5"
      },
      "outputs": [
        {
          "name": "stdout",
          "output_type": "stream",
          "text": [
            "Model: \"sequential\"\n",
            "_________________________________________________________________\n",
            " Layer (type)                Output Shape              Param #   \n",
            "=================================================================\n",
            " dense (Dense)               (5, 5)                    30        \n",
            "                                                                 \n",
            " dense_1 (Dense)             (5, 12)                   72        \n",
            "                                                                 \n",
            " dense_2 (Dense)             (5, 10)                   130       \n",
            "                                                                 \n",
            " dense_3 (Dense)             (5, 5)                    55        \n",
            "                                                                 \n",
            "=================================================================\n",
            "Total params: 287\n",
            "Trainable params: 287\n",
            "Non-trainable params: 0\n",
            "_________________________________________________________________\n"
          ]
        }
      ],
      "source": [
        "clf_model.summary()"
      ]
    },
    {
      "cell_type": "code",
      "execution_count": 43,
      "metadata": {
        "colab": {
          "base_uri": "https://localhost:8080/"
        },
        "id": "hiBaX60AGt3i",
        "outputId": "c82d1092-bd2b-4e7a-f85c-57060ffc72ca"
      },
      "outputs": [
        {
          "name": "stdout",
          "output_type": "stream",
          "text": [
            "2/2 [==============================] - 0s 2ms/step\n"
          ]
        },
        {
          "data": {
            "text/plain": [
              "array(['DrugY', 'DrugY', 'DrugY', 'DrugY', 'drugX', 'DrugY', 'DrugY',\n",
              "       'DrugY', 'DrugY', 'DrugY', 'DrugY', 'DrugY', 'DrugY', 'DrugY',\n",
              "       'DrugY', 'drugA', 'drugB', 'drugC', 'drugX', 'drugA', 'DrugY',\n",
              "       'DrugY', 'DrugY', 'drugX', 'DrugY', 'drugX', 'drugX', 'DrugY',\n",
              "       'drugB', 'drugB', 'DrugY', 'DrugY', 'drugX', 'DrugY', 'DrugY',\n",
              "       'drugX', 'DrugY', 'DrugY', 'DrugY', 'drugX'], dtype=object)"
            ]
          },
          "execution_count": 43,
          "metadata": {},
          "output_type": "execute_result"
        }
      ],
      "source": [
        "predictions = clf_model.predict(xtest)\n",
        "predicted_classes = np.argmax(predictions, axis=1)\n",
        "predicted_labels = label_encoder.inverse_transform(predicted_classes)# to get back the value of Drug\n",
        "predicted_labels"
      ]
    },
    {
      "cell_type": "code",
      "execution_count": null,
      "metadata": {
        "id": "kKw4NdrVMezf"
      },
      "outputs": [],
      "source": []
    }
  ],
  "metadata": {
    "colab": {
      "provenance": []
    },
    "kernelspec": {
      "display_name": "Python 3",
      "language": "python",
      "name": "python3"
    },
    "language_info": {
      "codemirror_mode": {
        "name": "ipython",
        "version": 3
      },
      "file_extension": ".py",
      "mimetype": "text/x-python",
      "name": "python",
      "nbconvert_exporter": "python",
      "pygments_lexer": "ipython3",
      "version": "3.10.4"
    },
    "orig_nbformat": 4
  },
  "nbformat": 4,
  "nbformat_minor": 0
}
