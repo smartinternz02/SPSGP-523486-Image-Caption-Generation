{
 "cells": [
  {
   "cell_type": "code",
   "execution_count": 2,
   "metadata": {},
   "outputs": [],
   "source": [
    "# Data Augmentation\n",
    "\n",
    "from tensorflow.keras.preprocessing.image import ImageDataGenerator"
   ]
  },
  {
   "cell_type": "code",
   "execution_count": 3,
   "metadata": {},
   "outputs": [],
   "source": [
    "train_gen = ImageDataGenerator(rescale=(1./255),horizontal_flip=True,shear_range=0.2)\n",
    "test_gen = ImageDataGenerator(rescale=(1./255))  #--> (0 to 255) convert to (0 to 1)"
   ]
  },
  {
   "cell_type": "code",
   "execution_count": 7,
   "metadata": {},
   "outputs": [
    {
     "name": "stdout",
     "output_type": "stream",
     "text": [
      "Found 150 images belonging to 16 classes.\n",
      "Found 157 images belonging to 16 classes.\n"
     ]
    }
   ],
   "source": [
    "train = train_gen.flow_from_directory('D://Datasets//bird_cnn//train_data//train_data',\n",
    "                                      target_size=(120, 120),\n",
    "                                      class_mode='categorical', \n",
    "                                      batch_size=8)\n",
    "test = test_gen.flow_from_directory('D://Datasets//bird_cnn//test_data//test_data',\n",
    "                                    target_size=(120, 120),\n",
    "                                      class_mode='categorical', \n",
    "                                      batch_size=8)"
   ]
  },
  {
   "cell_type": "code",
   "execution_count": 8,
   "metadata": {},
   "outputs": [
    {
     "data": {
      "text/plain": [
       "{'blasti': 0,\n",
       " 'bonegl': 1,\n",
       " 'brhkyt': 2,\n",
       " 'cbrtsh': 3,\n",
       " 'cmnmyn': 4,\n",
       " 'gretit': 5,\n",
       " 'hilpig': 6,\n",
       " 'himbul': 7,\n",
       " 'himgri': 8,\n",
       " 'hsparo': 9,\n",
       " 'indvul': 10,\n",
       " 'jglowl': 11,\n",
       " 'lbicrw': 12,\n",
       " 'mgprob': 13,\n",
       " 'rebimg': 14,\n",
       " 'wcrsrt': 15}"
      ]
     },
     "execution_count": 8,
     "metadata": {},
     "output_type": "execute_result"
    }
   ],
   "source": [
    "train.class_indices"
   ]
  },
  {
   "cell_type": "code",
   "execution_count": 9,
   "metadata": {},
   "outputs": [],
   "source": [
    "# CNN\n",
    "\n",
    "from tensorflow.keras.layers import Convolution2D,MaxPooling2D,Flatten,Dense\n",
    "from tensorflow.keras.models import Sequential"
   ]
  },
  {
   "cell_type": "code",
   "execution_count": 13,
   "metadata": {},
   "outputs": [],
   "source": [
    "model = Sequential()\n",
    "model.add(Convolution2D(20,(3,3),activation='relu',input_shape=(120, 120, 3)))\n",
    "model.add(MaxPooling2D(pool_size=(2,2)))\n",
    "model.add(Flatten())\n",
    "model.add(Dense(45,activation='relu'))\n",
    "model.add(Dense(16,activation='softmax'))"
   ]
  },
  {
   "cell_type": "code",
   "execution_count": 14,
   "metadata": {},
   "outputs": [],
   "source": [
    "model.compile(optimizer='adam',loss='categorical_crossentropy',metrics=['accuracy'])"
   ]
  },
  {
   "cell_type": "code",
   "execution_count": 15,
   "metadata": {},
   "outputs": [
    {
     "name": "stdout",
     "output_type": "stream",
     "text": [
      "Epoch 1/10\n",
      "19/19 [==============================] - 45s 2s/step - loss: 4.8572 - accuracy: 0.1067 - val_loss: 2.8515 - val_accuracy: 0.0446\n",
      "Epoch 2/10\n",
      "19/19 [==============================] - 41s 2s/step - loss: 2.6005 - accuracy: 0.1667 - val_loss: 2.7402 - val_accuracy: 0.1338\n",
      "Epoch 3/10\n",
      "19/19 [==============================] - 42s 2s/step - loss: 2.5053 - accuracy: 0.1867 - val_loss: 2.7111 - val_accuracy: 0.1401\n",
      "Epoch 4/10\n",
      "19/19 [==============================] - 44s 2s/step - loss: 2.4313 - accuracy: 0.1867 - val_loss: 2.7283 - val_accuracy: 0.1465\n",
      "Epoch 5/10\n",
      "19/19 [==============================] - 55s 3s/step - loss: 2.4261 - accuracy: 0.2733 - val_loss: 2.6915 - val_accuracy: 0.1975\n",
      "Epoch 6/10\n",
      "19/19 [==============================] - 51s 3s/step - loss: 2.2960 - accuracy: 0.2267 - val_loss: 2.6790 - val_accuracy: 0.1911\n",
      "Epoch 7/10\n",
      "19/19 [==============================] - 48s 3s/step - loss: 2.2933 - accuracy: 0.2867 - val_loss: 2.6650 - val_accuracy: 0.1783\n",
      "Epoch 8/10\n",
      "19/19 [==============================] - 44s 2s/step - loss: 2.2439 - accuracy: 0.2200 - val_loss: 2.6464 - val_accuracy: 0.1847\n",
      "Epoch 9/10\n",
      "19/19 [==============================] - 44s 2s/step - loss: 2.1013 - accuracy: 0.2800 - val_loss: 2.7185 - val_accuracy: 0.1146\n",
      "Epoch 10/10\n",
      "19/19 [==============================] - 45s 2s/step - loss: 2.0680 - accuracy: 0.3133 - val_loss: 2.6736 - val_accuracy: 0.1720\n"
     ]
    },
    {
     "data": {
      "text/plain": [
       "<keras.callbacks.History at 0x10e83db1210>"
      ]
     },
     "execution_count": 15,
     "metadata": {},
     "output_type": "execute_result"
    }
   ],
   "source": [
    "model.fit(train,batch_size=8,validation_data=test,epochs=10)"
   ]
  },
  {
   "cell_type": "code",
   "execution_count": null,
   "metadata": {},
   "outputs": [],
   "source": [
    "model.save('D://Datasets//bird_cnn//birdWeight.h5')"
   ]
  },
  {
   "cell_type": "code",
   "execution_count": 16,
   "metadata": {},
   "outputs": [],
   "source": [
    "# Testing\n",
    "\n",
    "import numpy as np\n",
    "from tensorflow.keras.preprocessing import image"
   ]
  },
  {
   "cell_type": "code",
   "execution_count": 17,
   "metadata": {},
   "outputs": [
    {
     "name": "stdout",
     "output_type": "stream",
     "text": [
      "1/1 [==============================] - 0s 125ms/step\n",
      "14\n",
      "rebimg\n"
     ]
    }
   ],
   "source": [
    "# Testing 1\n",
    "img1 = image.load_img('./images/crow.jpg',target_size=(120,120))\n",
    "img1 = image.img_to_array(img1)\n",
    "img1 = np.expand_dims(img1,axis=0)\n",
    "pred = np.argmax(model.predict(img1))\n",
    "print(pred)\n",
    "output = ['blasti','bonegl','brhkyt','cbrtsh','cmnmyn','gretit','hilpig','himbul','himgri','hsparo','indvul','jglowl','lbicrw','mgprob','rebimg','wcrsrt']\n",
    "print(output[pred])"
   ]
  },
  {
   "attachments": {},
   "cell_type": "markdown",
   "metadata": {},
   "source": [
    "### Model Tuning"
   ]
  },
  {
   "cell_type": "code",
   "execution_count": 18,
   "metadata": {},
   "outputs": [],
   "source": [
    "model = Sequential([\n",
    "    Convolution2D(15,(3,3),activation = 'relu',input_shape=(120,120,3)),\n",
    "    MaxPooling2D(2,2),\n",
    "    Convolution2D(30,(3,3),activation = 'relu'),\n",
    "    MaxPooling2D(2,2),\n",
    "    Convolution2D(45,(3,3),activation = 'relu'),\n",
    "    MaxPooling2D(2,2),\n",
    "    Convolution2D(60,(3,3),activation = 'relu',input_shape=(120,120,3)),\n",
    "    MaxPooling2D(2,2),\n",
    "    Convolution2D(75,(3,3),activation = 'relu',input_shape=(120,120,3)),\n",
    "    MaxPooling2D(2,2),\n",
    "    Flatten(),\n",
    "    Dense(62,activation = 'relu'),\n",
    "    Dense(32,activation = 'relu'),\n",
    "    Dense(16,activation = 'relu'),\n",
    "    Dense(16,activation = 'softmax')\n",
    "])"
   ]
  },
  {
   "cell_type": "code",
   "execution_count": 19,
   "metadata": {},
   "outputs": [
    {
     "name": "stdout",
     "output_type": "stream",
     "text": [
      "Model: \"sequential_2\"\n",
      "_________________________________________________________________\n",
      " Layer (type)                Output Shape              Param #   \n",
      "=================================================================\n",
      " conv2d_2 (Conv2D)           (None, 118, 118, 15)      420       \n",
      "                                                                 \n",
      " max_pooling2d_2 (MaxPooling  (None, 59, 59, 15)       0         \n",
      " 2D)                                                             \n",
      "                                                                 \n",
      " conv2d_3 (Conv2D)           (None, 57, 57, 30)        4080      \n",
      "                                                                 \n",
      " max_pooling2d_3 (MaxPooling  (None, 28, 28, 30)       0         \n",
      " 2D)                                                             \n",
      "                                                                 \n",
      " conv2d_4 (Conv2D)           (None, 26, 26, 45)        12195     \n",
      "                                                                 \n",
      " max_pooling2d_4 (MaxPooling  (None, 13, 13, 45)       0         \n",
      " 2D)                                                             \n",
      "                                                                 \n",
      " conv2d_5 (Conv2D)           (None, 11, 11, 60)        24360     \n",
      "                                                                 \n",
      " max_pooling2d_5 (MaxPooling  (None, 5, 5, 60)         0         \n",
      " 2D)                                                             \n",
      "                                                                 \n",
      " conv2d_6 (Conv2D)           (None, 3, 3, 75)          40575     \n",
      "                                                                 \n",
      " max_pooling2d_6 (MaxPooling  (None, 1, 1, 75)         0         \n",
      " 2D)                                                             \n",
      "                                                                 \n",
      " flatten_2 (Flatten)         (None, 75)                0         \n",
      "                                                                 \n",
      " dense_4 (Dense)             (None, 62)                4712      \n",
      "                                                                 \n",
      " dense_5 (Dense)             (None, 32)                2016      \n",
      "                                                                 \n",
      " dense_6 (Dense)             (None, 16)                528       \n",
      "                                                                 \n",
      " dense_7 (Dense)             (None, 16)                272       \n",
      "                                                                 \n",
      "=================================================================\n",
      "Total params: 89,158\n",
      "Trainable params: 89,158\n",
      "Non-trainable params: 0\n",
      "_________________________________________________________________\n"
     ]
    }
   ],
   "source": [
    "model.summary()"
   ]
  },
  {
   "cell_type": "code",
   "execution_count": 20,
   "metadata": {},
   "outputs": [],
   "source": [
    "model.compile(optimizer='adam',metrics=['accuracy'],loss='categorical_crossentropy')"
   ]
  },
  {
   "cell_type": "code",
   "execution_count": 21,
   "metadata": {},
   "outputs": [
    {
     "name": "stdout",
     "output_type": "stream",
     "text": [
      "Epoch 1/50\n",
      "19/19 [==============================] - 57s 3s/step - loss: 2.7722 - accuracy: 0.0733 - val_loss: 2.7488 - val_accuracy: 0.1274\n",
      "Epoch 2/50\n",
      "19/19 [==============================] - 56s 3s/step - loss: 2.7385 - accuracy: 0.1333 - val_loss: 2.7181 - val_accuracy: 0.1274\n",
      "Epoch 3/50\n",
      "19/19 [==============================] - 54s 3s/step - loss: 2.6737 - accuracy: 0.1333 - val_loss: 2.7362 - val_accuracy: 0.1274\n",
      "Epoch 4/50\n",
      "19/19 [==============================] - 49s 3s/step - loss: 2.6526 - accuracy: 0.1333 - val_loss: 2.7581 - val_accuracy: 0.1274\n",
      "Epoch 5/50\n",
      "19/19 [==============================] - 49s 3s/step - loss: 2.6004 - accuracy: 0.1333 - val_loss: 2.9281 - val_accuracy: 0.1274\n",
      "Epoch 6/50\n",
      "19/19 [==============================] - 43s 2s/step - loss: 2.6023 - accuracy: 0.1333 - val_loss: 2.7312 - val_accuracy: 0.1274\n",
      "Epoch 7/50\n",
      "19/19 [==============================] - 42s 2s/step - loss: 2.5609 - accuracy: 0.1333 - val_loss: 2.7595 - val_accuracy: 0.1274\n",
      "Epoch 8/50\n",
      "19/19 [==============================] - 44s 2s/step - loss: 2.5177 - accuracy: 0.1333 - val_loss: 2.7848 - val_accuracy: 0.1274\n",
      "Epoch 9/50\n",
      "19/19 [==============================] - 45s 2s/step - loss: 2.5115 - accuracy: 0.1333 - val_loss: 2.6993 - val_accuracy: 0.1210\n",
      "Epoch 10/50\n",
      "19/19 [==============================] - 45s 2s/step - loss: 2.4566 - accuracy: 0.1667 - val_loss: 2.7089 - val_accuracy: 0.1529\n",
      "Epoch 11/50\n",
      "19/19 [==============================] - 44s 2s/step - loss: 2.4108 - accuracy: 0.1933 - val_loss: 2.7026 - val_accuracy: 0.1720\n",
      "Epoch 12/50\n",
      "19/19 [==============================] - 41s 2s/step - loss: 2.3867 - accuracy: 0.2400 - val_loss: 2.6690 - val_accuracy: 0.1720\n",
      "Epoch 13/50\n",
      "19/19 [==============================] - 43s 2s/step - loss: 2.3645 - accuracy: 0.2200 - val_loss: 2.6711 - val_accuracy: 0.1592\n",
      "Epoch 14/50\n",
      "19/19 [==============================] - 47s 3s/step - loss: 2.2997 - accuracy: 0.2800 - val_loss: 2.7030 - val_accuracy: 0.1911\n",
      "Epoch 15/50\n",
      "19/19 [==============================] - 46s 3s/step - loss: 2.2529 - accuracy: 0.3067 - val_loss: 2.9234 - val_accuracy: 0.1083\n",
      "Epoch 16/50\n",
      "19/19 [==============================] - 42s 2s/step - loss: 2.2316 - accuracy: 0.2733 - val_loss: 2.6875 - val_accuracy: 0.1911\n",
      "Epoch 17/50\n",
      "19/19 [==============================] - 44s 2s/step - loss: 2.1394 - accuracy: 0.2867 - val_loss: 2.6027 - val_accuracy: 0.2038\n",
      "Epoch 18/50\n",
      "19/19 [==============================] - 46s 3s/step - loss: 2.2018 - accuracy: 0.2467 - val_loss: 2.6087 - val_accuracy: 0.2102\n",
      "Epoch 19/50\n",
      "19/19 [==============================] - 44s 2s/step - loss: 2.2051 - accuracy: 0.2867 - val_loss: 2.6392 - val_accuracy: 0.1911\n",
      "Epoch 20/50\n",
      "19/19 [==============================] - 43s 2s/step - loss: 2.0781 - accuracy: 0.3133 - val_loss: 2.5705 - val_accuracy: 0.2102\n",
      "Epoch 21/50\n",
      "19/19 [==============================] - 59s 3s/step - loss: 1.9889 - accuracy: 0.2867 - val_loss: 2.7428 - val_accuracy: 0.2038\n",
      "Epoch 22/50\n",
      "19/19 [==============================] - 51s 3s/step - loss: 2.0396 - accuracy: 0.3133 - val_loss: 2.6872 - val_accuracy: 0.1911\n",
      "Epoch 23/50\n",
      "19/19 [==============================] - 49s 3s/step - loss: 2.0615 - accuracy: 0.3067 - val_loss: 2.7906 - val_accuracy: 0.1911\n",
      "Epoch 24/50\n",
      "19/19 [==============================] - 64s 4s/step - loss: 1.9500 - accuracy: 0.3067 - val_loss: 2.5911 - val_accuracy: 0.2357\n",
      "Epoch 25/50\n",
      "19/19 [==============================] - 53s 3s/step - loss: 1.9886 - accuracy: 0.3067 - val_loss: 2.7007 - val_accuracy: 0.2229\n",
      "Epoch 26/50\n",
      "19/19 [==============================] - 62s 3s/step - loss: 1.9048 - accuracy: 0.3267 - val_loss: 2.5695 - val_accuracy: 0.2229\n",
      "Epoch 27/50\n",
      "19/19 [==============================] - 63s 3s/step - loss: 1.9224 - accuracy: 0.3267 - val_loss: 2.6505 - val_accuracy: 0.2420\n",
      "Epoch 28/50\n",
      "19/19 [==============================] - 50s 3s/step - loss: 1.8255 - accuracy: 0.3533 - val_loss: 2.8122 - val_accuracy: 0.2038\n",
      "Epoch 29/50\n",
      "19/19 [==============================] - 49s 3s/step - loss: 1.8226 - accuracy: 0.3667 - val_loss: 2.6621 - val_accuracy: 0.1720\n",
      "Epoch 30/50\n",
      "19/19 [==============================] - 49s 3s/step - loss: 1.8243 - accuracy: 0.3333 - val_loss: 2.7094 - val_accuracy: 0.1975\n",
      "Epoch 31/50\n",
      "19/19 [==============================] - 51s 3s/step - loss: 1.9257 - accuracy: 0.3600 - val_loss: 2.8578 - val_accuracy: 0.1210\n",
      "Epoch 32/50\n",
      "19/19 [==============================] - 53s 3s/step - loss: 1.8949 - accuracy: 0.3467 - val_loss: 2.5533 - val_accuracy: 0.2293\n",
      "Epoch 33/50\n",
      "19/19 [==============================] - 49s 3s/step - loss: 1.7712 - accuracy: 0.3667 - val_loss: 2.7153 - val_accuracy: 0.2293\n",
      "Epoch 34/50\n",
      "19/19 [==============================] - 49s 3s/step - loss: 1.7790 - accuracy: 0.4267 - val_loss: 2.9518 - val_accuracy: 0.2102\n",
      "Epoch 35/50\n",
      "19/19 [==============================] - 50s 3s/step - loss: 1.7482 - accuracy: 0.4067 - val_loss: 2.6518 - val_accuracy: 0.1911\n",
      "Epoch 36/50\n",
      "19/19 [==============================] - 49s 3s/step - loss: 1.6263 - accuracy: 0.4400 - val_loss: 2.7040 - val_accuracy: 0.2229\n",
      "Epoch 37/50\n",
      "19/19 [==============================] - 50s 3s/step - loss: 1.5583 - accuracy: 0.4067 - val_loss: 2.8479 - val_accuracy: 0.2420\n",
      "Epoch 38/50\n",
      "19/19 [==============================] - 51s 3s/step - loss: 1.5099 - accuracy: 0.4867 - val_loss: 2.9319 - val_accuracy: 0.2420\n",
      "Epoch 39/50\n",
      "19/19 [==============================] - 48s 3s/step - loss: 1.4527 - accuracy: 0.4667 - val_loss: 3.2109 - val_accuracy: 0.2357\n",
      "Epoch 40/50\n",
      "19/19 [==============================] - 53s 3s/step - loss: 1.3496 - accuracy: 0.5267 - val_loss: 3.2917 - val_accuracy: 0.2102\n",
      "Epoch 41/50\n",
      "19/19 [==============================] - 49s 3s/step - loss: 1.4725 - accuracy: 0.4467 - val_loss: 2.8134 - val_accuracy: 0.2038\n",
      "Epoch 42/50\n",
      "19/19 [==============================] - 48s 3s/step - loss: 1.3246 - accuracy: 0.4933 - val_loss: 3.2256 - val_accuracy: 0.2420\n",
      "Epoch 43/50\n",
      "19/19 [==============================] - 52s 3s/step - loss: 1.1623 - accuracy: 0.5733 - val_loss: 4.4234 - val_accuracy: 0.1847\n",
      "Epoch 44/50\n",
      "19/19 [==============================] - 50s 3s/step - loss: 1.3262 - accuracy: 0.5067 - val_loss: 3.3664 - val_accuracy: 0.2229\n",
      "Epoch 45/50\n",
      "19/19 [==============================] - 49s 3s/step - loss: 1.2387 - accuracy: 0.5667 - val_loss: 3.4787 - val_accuracy: 0.2357\n",
      "Epoch 46/50\n",
      "19/19 [==============================] - 55s 3s/step - loss: 1.0293 - accuracy: 0.6267 - val_loss: 3.8356 - val_accuracy: 0.2166\n",
      "Epoch 47/50\n",
      "19/19 [==============================] - 54s 3s/step - loss: 1.0711 - accuracy: 0.5667 - val_loss: 3.6543 - val_accuracy: 0.2420\n",
      "Epoch 48/50\n",
      "19/19 [==============================] - 57s 3s/step - loss: 1.0114 - accuracy: 0.6267 - val_loss: 3.5649 - val_accuracy: 0.2484\n",
      "Epoch 49/50\n",
      "19/19 [==============================] - 56s 3s/step - loss: 1.0529 - accuracy: 0.6133 - val_loss: 4.1788 - val_accuracy: 0.2611\n",
      "Epoch 50/50\n",
      "19/19 [==============================] - 51s 3s/step - loss: 0.9332 - accuracy: 0.6733 - val_loss: 4.4709 - val_accuracy: 0.2484\n"
     ]
    }
   ],
   "source": [
    "model_fit = model.fit(train,epochs =50,\n",
    "                     validation_data = test ,\n",
    "                      batch_size=5)"
   ]
  },
  {
   "cell_type": "code",
   "execution_count": 23,
   "metadata": {},
   "outputs": [
    {
     "name": "stdout",
     "output_type": "stream",
     "text": [
      "1/1 [==============================] - 0s 230ms/step\n",
      "14\n",
      "rebimg\n"
     ]
    }
   ],
   "source": [
    "#Testing after tuning\n",
    "img1 = image.load_img(\"./images/robin_bird.jpg\",target_size=(120,120))\n",
    "img1 = image.img_to_array(img1)\n",
    "img1 = np.expand_dims(img1,axis=0)\n",
    "pred = np.argmax(model.predict(img1))\n",
    "print(pred)\n",
    "print(output[pred])\n"
   ]
  },
  {
   "cell_type": "code",
   "execution_count": 24,
   "metadata": {},
   "outputs": [],
   "source": [
    "#Drop Out and Batch Normalization"
   ]
  },
  {
   "cell_type": "code",
   "execution_count": 22,
   "metadata": {},
   "outputs": [],
   "source": [
    "from tensorflow.keras.layers import BatchNormalization,Dropout"
   ]
  },
  {
   "cell_type": "code",
   "execution_count": 25,
   "metadata": {},
   "outputs": [],
   "source": [
    "model = Sequential([\n",
    "    Convolution2D(12,(3,3),activation = 'relu',input_shape=(120,120,3)),\n",
    "    BatchNormalization(),\n",
    "    MaxPooling2D(2,2),\n",
    "    Dropout(0.2),\n",
    "    Convolution2D(24,(3,3),activation = 'relu'),\n",
    "    BatchNormalization(),\n",
    "    MaxPooling2D(2,2),\n",
    "    Dropout(0.2),\n",
    "    Convolution2D(36,(3,3),activation = 'relu'),\n",
    "    BatchNormalization(),\n",
    "    MaxPooling2D(2,2),\n",
    "    Dropout(0.2),\n",
    "    Flatten(),\n",
    "    Dense(62,activation = 'relu'),\n",
    "    BatchNormalization(),\n",
    "    Dropout(0.1),\n",
    "    Dense(32,activation = 'relu'),\n",
    "    Dense(16,activation = 'relu'),\n",
    "    Dense(16,activation = 'softmax')\n",
    "])"
   ]
  },
  {
   "cell_type": "code",
   "execution_count": 26,
   "metadata": {},
   "outputs": [
    {
     "name": "stdout",
     "output_type": "stream",
     "text": [
      "Model: \"sequential_3\"\n",
      "_________________________________________________________________\n",
      " Layer (type)                Output Shape              Param #   \n",
      "=================================================================\n",
      " conv2d_7 (Conv2D)           (None, 118, 118, 12)      336       \n",
      "                                                                 \n",
      " batch_normalization (BatchN  (None, 118, 118, 12)     48        \n",
      " ormalization)                                                   \n",
      "                                                                 \n",
      " max_pooling2d_7 (MaxPooling  (None, 59, 59, 12)       0         \n",
      " 2D)                                                             \n",
      "                                                                 \n",
      " dropout (Dropout)           (None, 59, 59, 12)        0         \n",
      "                                                                 \n",
      " conv2d_8 (Conv2D)           (None, 57, 57, 24)        2616      \n",
      "                                                                 \n",
      " batch_normalization_1 (Batc  (None, 57, 57, 24)       96        \n",
      " hNormalization)                                                 \n",
      "                                                                 \n",
      " max_pooling2d_8 (MaxPooling  (None, 28, 28, 24)       0         \n",
      " 2D)                                                             \n",
      "                                                                 \n",
      " dropout_1 (Dropout)         (None, 28, 28, 24)        0         \n",
      "                                                                 \n",
      " conv2d_9 (Conv2D)           (None, 26, 26, 36)        7812      \n",
      "                                                                 \n",
      " batch_normalization_2 (Batc  (None, 26, 26, 36)       144       \n",
      " hNormalization)                                                 \n",
      "                                                                 \n",
      " max_pooling2d_9 (MaxPooling  (None, 13, 13, 36)       0         \n",
      " 2D)                                                             \n",
      "                                                                 \n",
      " dropout_2 (Dropout)         (None, 13, 13, 36)        0         \n",
      "                                                                 \n",
      " flatten_3 (Flatten)         (None, 6084)              0         \n",
      "                                                                 \n",
      " dense_8 (Dense)             (None, 62)                377270    \n",
      "                                                                 \n",
      " batch_normalization_3 (Batc  (None, 62)               248       \n",
      " hNormalization)                                                 \n",
      "                                                                 \n",
      " dropout_3 (Dropout)         (None, 62)                0         \n",
      "                                                                 \n",
      " dense_9 (Dense)             (None, 32)                2016      \n",
      "                                                                 \n",
      " dense_10 (Dense)            (None, 16)                528       \n",
      "                                                                 \n",
      " dense_11 (Dense)            (None, 16)                272       \n",
      "                                                                 \n",
      "=================================================================\n",
      "Total params: 391,386\n",
      "Trainable params: 391,118\n",
      "Non-trainable params: 268\n",
      "_________________________________________________________________\n"
     ]
    }
   ],
   "source": [
    "model.summary()"
   ]
  },
  {
   "cell_type": "code",
   "execution_count": 27,
   "metadata": {},
   "outputs": [],
   "source": [
    "model.compile(optimizer='adam',metrics=['accuracy'],loss='categorical_crossentropy')"
   ]
  },
  {
   "cell_type": "code",
   "execution_count": 29,
   "metadata": {},
   "outputs": [],
   "source": [
    "# Early stopping\n",
    "from tensorflow.keras.callbacks import EarlyStopping"
   ]
  },
  {
   "cell_type": "code",
   "execution_count": 30,
   "metadata": {},
   "outputs": [],
   "source": [
    "early_stop = EarlyStopping(monitor = 'val_accuracy',patience = 8)"
   ]
  },
  {
   "cell_type": "code",
   "execution_count": 31,
   "metadata": {},
   "outputs": [
    {
     "name": "stdout",
     "output_type": "stream",
     "text": [
      "Epoch 1/15\n",
      "19/19 [==============================] - 71s 4s/step - loss: 2.7970 - accuracy: 0.0667 - val_loss: 2.7990 - val_accuracy: 0.0382\n",
      "Epoch 2/15\n",
      "19/19 [==============================] - 74s 4s/step - loss: 2.6693 - accuracy: 0.1133 - val_loss: 3.0579 - val_accuracy: 0.0382\n",
      "Epoch 3/15\n",
      "19/19 [==============================] - 63s 3s/step - loss: 2.5449 - accuracy: 0.2200 - val_loss: 3.2545 - val_accuracy: 0.0446\n",
      "Epoch 4/15\n",
      "19/19 [==============================] - 59s 3s/step - loss: 2.4911 - accuracy: 0.2333 - val_loss: 3.2388 - val_accuracy: 0.0637\n",
      "Epoch 5/15\n",
      "19/19 [==============================] - 42s 2s/step - loss: 2.3831 - accuracy: 0.3267 - val_loss: 3.4637 - val_accuracy: 0.1210\n",
      "Epoch 6/15\n",
      "19/19 [==============================] - 42s 2s/step - loss: 2.3349 - accuracy: 0.2600 - val_loss: 3.7017 - val_accuracy: 0.0955\n",
      "Epoch 7/15\n",
      "19/19 [==============================] - 46s 3s/step - loss: 2.2074 - accuracy: 0.3200 - val_loss: 3.7627 - val_accuracy: 0.0955\n",
      "Epoch 8/15\n",
      "19/19 [==============================] - 57s 3s/step - loss: 2.0636 - accuracy: 0.3867 - val_loss: 3.4284 - val_accuracy: 0.0955\n",
      "Epoch 9/15\n",
      "19/19 [==============================] - 50s 3s/step - loss: 1.9996 - accuracy: 0.4067 - val_loss: 3.6892 - val_accuracy: 0.0955\n",
      "Epoch 10/15\n",
      "19/19 [==============================] - 58s 3s/step - loss: 1.8774 - accuracy: 0.4200 - val_loss: 3.6538 - val_accuracy: 0.0955\n",
      "Epoch 11/15\n",
      "19/19 [==============================] - 59s 3s/step - loss: 1.7348 - accuracy: 0.4933 - val_loss: 3.5801 - val_accuracy: 0.0955\n",
      "Epoch 12/15\n",
      "19/19 [==============================] - 51s 3s/step - loss: 1.7916 - accuracy: 0.4267 - val_loss: 3.7411 - val_accuracy: 0.0955\n",
      "Epoch 13/15\n",
      "19/19 [==============================] - 41s 2s/step - loss: 1.7130 - accuracy: 0.4933 - val_loss: 3.7319 - val_accuracy: 0.0637\n"
     ]
    }
   ],
   "source": [
    "model_fit = model.fit(train,epochs =15,\n",
    "                     validation_data = test ,\n",
    "                      batch_size=5,\n",
    "                      callbacks=early_stop)"
   ]
  },
  {
   "cell_type": "code",
   "execution_count": 32,
   "metadata": {},
   "outputs": [
    {
     "name": "stdout",
     "output_type": "stream",
     "text": [
      "1/1 [==============================] - 0s 167ms/step\n",
      "8\n",
      "himgri\n"
     ]
    }
   ],
   "source": [
    "img1 = image.load_img(\"./images/song_bird.jpg\",target_size=(120,120))\n",
    "img1 = image.img_to_array(img1)\n",
    "img1 = np.expand_dims(img1,axis=0)\n",
    "pred = np.argmax(model.predict(img1))\n",
    "print(pred)\n",
    "print(output[pred])"
   ]
  },
  {
   "cell_type": "code",
   "execution_count": null,
   "metadata": {},
   "outputs": [],
   "source": []
  }
 ],
 "metadata": {
  "kernelspec": {
   "display_name": "Python 3",
   "language": "python",
   "name": "python3"
  },
  "language_info": {
   "codemirror_mode": {
    "name": "ipython",
    "version": 3
   },
   "file_extension": ".py",
   "mimetype": "text/x-python",
   "name": "python",
   "nbconvert_exporter": "python",
   "pygments_lexer": "ipython3",
   "version": "3.10.4"
  },
  "orig_nbformat": 4
 },
 "nbformat": 4,
 "nbformat_minor": 2
}
